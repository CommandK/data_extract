{
 "cells": [
  {
   "cell_type": "code",
   "execution_count": 1,
   "metadata": {},
   "outputs": [
    {
     "ename": "TypeError",
     "evalue": "string indices must be integers",
     "output_type": "error",
     "traceback": [
      "\u001b[0;31m---------------------------------------------------------------------------\u001b[0m",
      "\u001b[0;31mTypeError\u001b[0m                                 Traceback (most recent call last)",
      "Cell \u001b[0;32mIn[1], line 24\u001b[0m\n\u001b[1;32m     21\u001b[0m     \u001b[39mreturn\u001b[39;00m constituents\n\u001b[1;32m     23\u001b[0m api_key \u001b[39m=\u001b[39m \u001b[39m\"\u001b[39m\u001b[39m62c35cc4e0a9c0.07933082\u001b[39m\u001b[39m\"\u001b[39m\n\u001b[0;32m---> 24\u001b[0m constituents \u001b[39m=\u001b[39m get_sp500_constituents(api_key)\n\u001b[1;32m     25\u001b[0m \u001b[39mprint\u001b[39m(constituents)\n",
      "Cell \u001b[0;32mIn[1], line 19\u001b[0m, in \u001b[0;36mget_sp500_constituents\u001b[0;34m(api_key)\u001b[0m\n\u001b[1;32m     16\u001b[0m \u001b[39mif\u001b[39;00m \u001b[39mnot\u001b[39;00m response\u001b[39m.\u001b[39mok:\n\u001b[1;32m     17\u001b[0m     response\u001b[39m.\u001b[39mraise_for_status()\n\u001b[0;32m---> 19\u001b[0m constituents \u001b[39m=\u001b[39m json\u001b[39m.\u001b[39;49mloads(response\u001b[39m.\u001b[39;49mtext)[\u001b[39m'\u001b[39;49m\u001b[39mComponents\u001b[39;49m\u001b[39m'\u001b[39;49m]\n\u001b[1;32m     21\u001b[0m \u001b[39mreturn\u001b[39;00m constituents\n",
      "\u001b[0;31mTypeError\u001b[0m: string indices must be integers"
     ]
    }
   ],
   "source": [
    "import requests\n",
    "import json\n",
    "\n",
    "def get_sp500_constituents(api_key):\n",
    "    url = \"https://eodhistoricaldata.com/api/fundamentals/SPY.US\"\n",
    "    params = {\n",
    "        \"api_token\": api_key,\n",
    "        \"filter\": \"Components\"\n",
    "    }\n",
    "\n",
    "    response = requests.get(url, params=params)\n",
    "\n",
    "    # Raise an exception if the request was unsuccessful\n",
    "    if not response.ok:\n",
    "        response.raise_for_status()\n",
    "\n",
    "    # Print the response text\n",
    "    print(\"Response text:\", response.text)\n",
    "\n",
    "    constituents = json.loads(response.text)['Components']\n",
    "\n",
    "    return constituents\n",
    "\n",
    "api_key = \"62c35cc4e0a9c0.07933082\"\n",
    "constituents = get_sp500_constituents(api_key)\n",
    "print(constituents)\n"
   ]
  }
 ],
 "metadata": {
  "kernelspec": {
   "display_name": "finance_env",
   "language": "python",
   "name": "python3"
  },
  "language_info": {
   "codemirror_mode": {
    "name": "ipython",
    "version": 3
   },
   "file_extension": ".py",
   "mimetype": "text/x-python",
   "name": "python",
   "nbconvert_exporter": "python",
   "pygments_lexer": "ipython3",
   "version": "3.9.17"
  },
  "orig_nbformat": 4
 },
 "nbformat": 4,
 "nbformat_minor": 2
}
